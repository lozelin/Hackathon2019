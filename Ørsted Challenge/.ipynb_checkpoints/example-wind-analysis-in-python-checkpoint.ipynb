{
 "cells": [
  {
   "cell_type": "markdown",
   "metadata": {
    "_uuid": "466723e0922d244f7a99b014692b21be514c6a05"
   },
   "source": []
  },
  {
   "cell_type": "markdown",
   "metadata": {
    "_uuid": "90ca8611a10faf5df15b530f093d27992cbc814f"
   },
   "source": [
    "# Example Wind Resource Assessment Using Python\n",
    "\n",
    "Cory Jog 2018-06-06\n",
    "\n",
    "A Python adaptation of Stephen Lightfoote's [original post in R](https://github.com/srlightfoote/AWEA_WRA_Working_Group/blob/master/Example_Wind_Resource_Assessment_Using_R.md#packages). You can see the [R equivalent here](https://www.kaggle.com/srlightfoote/example-wind-analysis-in-r). You can also see more of his insperational work [on his blog](http://www.renewable-analytics.site/). This is also a follow up to the [AWEA Wind Resource Working Group's webinar on the open-source ecosystem](http://www.awea.org/resource-assessment). \n",
    "\n",
    "Anemoi was inspired by [Rob Story's Climatic library](https://github.com/wrobstory/climatic), which he developed while at Vestas.\n",
    "\n",
    "The goal here is to illustrate how aspects of a typical wind resource assessment from meteorological data can be accomplished using open source tools. This kernel can also serve as a introduction for analysts, in this case utilizing Python. Using representative data, we'll walk through some of the typical steps taken to import, visualize, and analize meteorological data with the goal of estimating the long-term wind regime at a given hub height. Specifically, we'll perform MCP to characterize the long-term mean wind speed, shear analysis to extrapolate to hub height, and define the wind speed frequency distribution's shape. Hopefully this demostrates how an analyst could use a notebook to go from quality controlled data to .tab files, the typical intput to wind flow models, in a single environment. With this environment you get all the benefits of an open-source scripting language such as auditability, transparency, scalability, repeatability, and disbributability with very little of the typical overhead needed to make sure an analysis can be transfered from one person or organization to another.\n",
    "\n",
    "## Packages\n",
    "\n",
    "First, load the Python libraries used to perform a typical wind analysis. This example uses a combination of vanilla data science libraries (numpy, pandas, matplotlib, scikit learn) but also introduces a wind specific analysis library [Anemoi](https://github.com/coryjog/anemoi). Anemoi is built upon these popular modules but with met mast data and wind resource assessment in mind. "
   ]
  },
  {
   "cell_type": "code",
   "execution_count": 5,
   "metadata": {
    "_cell_guid": "b1076dfc-b9ad-4769-8c92-a6c4dae69d19",
    "_uuid": "8f2839f25d086af736a60e9eeb907d3b93b6e0e5"
   },
   "outputs": [
    {
     "data": {
      "text/html": [
       "        <script type=\"text/javascript\">\n",
       "        window.PlotlyConfig = {MathJaxConfig: 'local'};\n",
       "        if (window.MathJax) {MathJax.Hub.Config({SVG: {font: \"STIX-Web\"}});}\n",
       "        if (typeof require !== 'undefined') {\n",
       "        require.undef(\"plotly\");\n",
       "        requirejs.config({\n",
       "            paths: {\n",
       "                'plotly': ['https://cdn.plot.ly/plotly-latest.min']\n",
       "            }\n",
       "        });\n",
       "        require(['plotly'], function(Plotly) {\n",
       "            window._Plotly = Plotly;\n",
       "        });\n",
       "        }\n",
       "        </script>\n",
       "        "
      ]
     },
     "metadata": {},
     "output_type": "display_data"
    },
    {
     "name": "stdout",
     "output_type": "stream",
     "text": [
      "Anemoi version: 0.0.49\n",
      "Pandas version: 0.24.2\n",
      "Numpy version: 1.16.2\n",
      "Scikit Learn version: 0.20.3\n",
      "Matplotlib version: 3.0.3\n"
     ]
    }
   ],
   "source": [
    "import anemoi as an\n",
    "import pandas as pd\n",
    "import numpy as np\n",
    "import scipy as sp\n",
    "import sklearn as skl\n",
    "\n",
    "import scipy.optimize as spyopt\n",
    "from scipy.special import gamma\n",
    "\n",
    "%matplotlib inline\n",
    "import matplotlib as mpl\n",
    "import matplotlib.pyplot as plt\n",
    "mpl.style.use('ggplot')\n",
    "import seaborn as sns\n",
    "sns.set_context('talk')\n",
    "\n",
    "import plotly.plotly as py\n",
    "import plotly.graph_objs as go\n",
    "import plotly.offline as offline\n",
    "import plotly.tools as tls\n",
    "offline.init_notebook_mode(connected=True)\n",
    "\n",
    "# Colors for plotting\n",
    "edf_green = '#509E2F'\n",
    "edf_orange = '#FE5815'\n",
    "edf_blue = '#001A70'\n",
    "\n",
    "print('Anemoi version: {}'.format(an.__version__))\n",
    "print('Pandas version: {}'.format(pd.__version__))\n",
    "print('Numpy version: {}'.format(np.__version__))\n",
    "print('Scikit Learn version: {}'.format(skl.__version__))\n",
    "print('Matplotlib version: {}'.format(mpl.__version__))"
   ]
  },
  {
   "cell_type": "markdown",
   "metadata": {
    "_uuid": "8a078f7bac275a20a0786ca58cd539af4086e607"
   },
   "source": [
    "## Get Wind Data\n",
    "\n",
    "Next, we'll import some sample data from a single meterological mast installed at a site along with daily wind speed data from nearby reference stations. These are anonymous data for demostration purposes. While these data have been collected from an actual installed met mast the sensor heights have been changed and the measured data have been scaled by an arbitrary factor. This has been done to disguise the absolute wind speeds and directions at the real site.  One top of that, the location of the mast has been widtheld. All that to say there is very little value to this data outside of being a good example of a real data in a typical wind resource assessment workflow. "
   ]
  },
  {
   "cell_type": "code",
   "execution_count": 6,
   "metadata": {
    "_cell_guid": "79c7e3d0-c299-4dcb-8224-4455121ee9b0",
    "_uuid": "d629ff2d2480ee46fbb7e2d37f6b5fab8052498a"
   },
   "outputs": [],
   "source": [
    "# %%timeit: 24.9 ms ± 793 µs per loop (mean ± std. dev. of 7 runs, 10 loops each)\n",
    "mast_data = pd.read_parquet('demo_mast.parquet')\n",
    "ref_data = pd.read_parquet('demo_refs.parquet')\n",
    "\n",
    "primary_ano = 'SPD_59_COMB_AVG'\n",
    "primary_vane = 'DIR_95_COMB_AVG'"
   ]
  },
  {
   "cell_type": "markdown",
   "metadata": {
    "_uuid": "3951a543b58f5c59c65994e43c8d61daeb22467d"
   },
   "source": [
    "## Site Data Exploratory Analysis\n",
    "\n",
    "Now to the meat of the Kernel, which is to illustrate how to analyze and visualize typical steps within a wind resource assessment where the end goal is to characterise the long-term wind regime at a given hub height. For our purposes we'll say 120 m. \n",
    "\n",
    "### Data Structure\n",
    "\n",
    "Measured 10-minute data from multiple heights at a site met mast.\n"
   ]
  },
  {
   "cell_type": "code",
   "execution_count": 7,
   "metadata": {
    "_uuid": "74c0568b13fb25f94037679cf5072eb000e4934c"
   },
   "outputs": [
    {
     "data": {
      "text/html": [
       "<div>\n",
       "<style scoped>\n",
       "    .dataframe tbody tr th:only-of-type {\n",
       "        vertical-align: middle;\n",
       "    }\n",
       "\n",
       "    .dataframe tbody tr th {\n",
       "        vertical-align: top;\n",
       "    }\n",
       "\n",
       "    .dataframe thead th {\n",
       "        text-align: right;\n",
       "    }\n",
       "</style>\n",
       "<table border=\"1\" class=\"dataframe\">\n",
       "  <thead>\n",
       "    <tr style=\"text-align: right;\">\n",
       "      <th>sensor</th>\n",
       "      <th>DIR_80_AVG</th>\n",
       "      <th>DIR_95_COMB_AVG</th>\n",
       "      <th>DIR_95_AVG</th>\n",
       "      <th>SPD_15_COMB_AVG</th>\n",
       "      <th>SPD_32_COMB_AVG</th>\n",
       "      <th>SPD_47_COMB_AVG</th>\n",
       "      <th>SPD_59_COMB_AVG</th>\n",
       "      <th>T_4_AVG</th>\n",
       "      <th>T_58_AVG</th>\n",
       "    </tr>\n",
       "    <tr>\n",
       "      <th>Stamp</th>\n",
       "      <th></th>\n",
       "      <th></th>\n",
       "      <th></th>\n",
       "      <th></th>\n",
       "      <th></th>\n",
       "      <th></th>\n",
       "      <th></th>\n",
       "      <th></th>\n",
       "      <th></th>\n",
       "    </tr>\n",
       "  </thead>\n",
       "  <tbody>\n",
       "    <tr>\n",
       "      <th>2014-12-17 11:00:00</th>\n",
       "      <td>124.1</td>\n",
       "      <td>124.1</td>\n",
       "      <td>124.1</td>\n",
       "      <td>NaN</td>\n",
       "      <td>NaN</td>\n",
       "      <td>NaN</td>\n",
       "      <td>NaN</td>\n",
       "      <td>0.3</td>\n",
       "      <td>0.0</td>\n",
       "    </tr>\n",
       "    <tr>\n",
       "      <th>2014-12-17 11:10:00</th>\n",
       "      <td>129.5</td>\n",
       "      <td>129.5</td>\n",
       "      <td>129.5</td>\n",
       "      <td>4.91232</td>\n",
       "      <td>5.27748</td>\n",
       "      <td>5.37336</td>\n",
       "      <td>5.53554</td>\n",
       "      <td>0.4</td>\n",
       "      <td>0.1</td>\n",
       "    </tr>\n",
       "    <tr>\n",
       "      <th>2014-12-17 11:20:00</th>\n",
       "      <td>130.8</td>\n",
       "      <td>130.8</td>\n",
       "      <td>130.8</td>\n",
       "      <td>5.91600</td>\n",
       "      <td>6.30870</td>\n",
       "      <td>6.31890</td>\n",
       "      <td>6.38112</td>\n",
       "      <td>0.4</td>\n",
       "      <td>0.1</td>\n",
       "    </tr>\n",
       "    <tr>\n",
       "      <th>2014-12-17 11:30:00</th>\n",
       "      <td>129.2</td>\n",
       "      <td>129.2</td>\n",
       "      <td>129.2</td>\n",
       "      <td>6.00168</td>\n",
       "      <td>6.50556</td>\n",
       "      <td>6.58920</td>\n",
       "      <td>6.70446</td>\n",
       "      <td>0.4</td>\n",
       "      <td>0.1</td>\n",
       "    </tr>\n",
       "    <tr>\n",
       "      <th>2014-12-17 11:40:00</th>\n",
       "      <td>117.0</td>\n",
       "      <td>117.0</td>\n",
       "      <td>117.0</td>\n",
       "      <td>5.59368</td>\n",
       "      <td>5.98740</td>\n",
       "      <td>6.15978</td>\n",
       "      <td>6.22404</td>\n",
       "      <td>0.5</td>\n",
       "      <td>0.2</td>\n",
       "    </tr>\n",
       "  </tbody>\n",
       "</table>\n",
       "</div>"
      ],
      "text/plain": [
       "sensor               DIR_80_AVG  DIR_95_COMB_AVG  DIR_95_AVG  SPD_15_COMB_AVG  \\\n",
       "Stamp                                                                           \n",
       "2014-12-17 11:00:00       124.1            124.1       124.1              NaN   \n",
       "2014-12-17 11:10:00       129.5            129.5       129.5          4.91232   \n",
       "2014-12-17 11:20:00       130.8            130.8       130.8          5.91600   \n",
       "2014-12-17 11:30:00       129.2            129.2       129.2          6.00168   \n",
       "2014-12-17 11:40:00       117.0            117.0       117.0          5.59368   \n",
       "\n",
       "sensor               SPD_32_COMB_AVG  SPD_47_COMB_AVG  SPD_59_COMB_AVG  \\\n",
       "Stamp                                                                    \n",
       "2014-12-17 11:00:00              NaN              NaN              NaN   \n",
       "2014-12-17 11:10:00          5.27748          5.37336          5.53554   \n",
       "2014-12-17 11:20:00          6.30870          6.31890          6.38112   \n",
       "2014-12-17 11:30:00          6.50556          6.58920          6.70446   \n",
       "2014-12-17 11:40:00          5.98740          6.15978          6.22404   \n",
       "\n",
       "sensor               T_4_AVG  T_58_AVG  \n",
       "Stamp                                   \n",
       "2014-12-17 11:00:00      0.3       0.0  \n",
       "2014-12-17 11:10:00      0.4       0.1  \n",
       "2014-12-17 11:20:00      0.4       0.1  \n",
       "2014-12-17 11:30:00      0.4       0.1  \n",
       "2014-12-17 11:40:00      0.5       0.2  "
      ]
     },
     "execution_count": 7,
     "metadata": {},
     "output_type": "execute_result"
    }
   ],
   "source": [
    "mast_data.head()"
   ]
  },
  {
   "cell_type": "markdown",
   "metadata": {
    "_uuid": "e6a3b11fe0c8024c29e57c0b9c0c2b44d87ea80e"
   },
   "source": [
    "Along with average daily wind speeds from ten nearby reference stations."
   ]
  },
  {
   "cell_type": "code",
   "execution_count": 8,
   "metadata": {
    "_uuid": "080a21890737e12a0ef06f7733c2bf05cfc589ea"
   },
   "outputs": [
    {
     "data": {
      "text/html": [
       "<div>\n",
       "<style scoped>\n",
       "    .dataframe tbody tr th:only-of-type {\n",
       "        vertical-align: middle;\n",
       "    }\n",
       "\n",
       "    .dataframe tbody tr th {\n",
       "        vertical-align: top;\n",
       "    }\n",
       "\n",
       "    .dataframe thead th {\n",
       "        text-align: right;\n",
       "    }\n",
       "</style>\n",
       "<table border=\"1\" class=\"dataframe\">\n",
       "  <thead>\n",
       "    <tr style=\"text-align: right;\">\n",
       "      <th></th>\n",
       "      <th>1</th>\n",
       "      <th>2</th>\n",
       "      <th>3</th>\n",
       "      <th>4</th>\n",
       "      <th>5</th>\n",
       "      <th>6</th>\n",
       "      <th>7</th>\n",
       "      <th>8</th>\n",
       "      <th>9</th>\n",
       "      <th>10</th>\n",
       "    </tr>\n",
       "    <tr>\n",
       "      <th>Date/Time</th>\n",
       "      <th></th>\n",
       "      <th></th>\n",
       "      <th></th>\n",
       "      <th></th>\n",
       "      <th></th>\n",
       "      <th></th>\n",
       "      <th></th>\n",
       "      <th></th>\n",
       "      <th></th>\n",
       "      <th></th>\n",
       "    </tr>\n",
       "  </thead>\n",
       "  <tbody>\n",
       "    <tr>\n",
       "      <th>2000-01-01</th>\n",
       "      <td>6.082917</td>\n",
       "      <td>5.953333</td>\n",
       "      <td>6.069167</td>\n",
       "      <td>5.3050</td>\n",
       "      <td>9.785833</td>\n",
       "      <td>9.646667</td>\n",
       "      <td>9.898333</td>\n",
       "      <td>9.302083</td>\n",
       "      <td>5.312153</td>\n",
       "      <td>5.487500</td>\n",
       "    </tr>\n",
       "    <tr>\n",
       "      <th>2000-01-02</th>\n",
       "      <td>5.301250</td>\n",
       "      <td>4.738750</td>\n",
       "      <td>4.875833</td>\n",
       "      <td>5.8350</td>\n",
       "      <td>8.520833</td>\n",
       "      <td>8.020000</td>\n",
       "      <td>7.675417</td>\n",
       "      <td>8.422917</td>\n",
       "      <td>3.950000</td>\n",
       "      <td>5.525000</td>\n",
       "    </tr>\n",
       "    <tr>\n",
       "      <th>2000-01-03</th>\n",
       "      <td>4.487500</td>\n",
       "      <td>5.036250</td>\n",
       "      <td>4.943333</td>\n",
       "      <td>3.4250</td>\n",
       "      <td>6.129583</td>\n",
       "      <td>7.123333</td>\n",
       "      <td>6.697500</td>\n",
       "      <td>6.291667</td>\n",
       "      <td>4.567708</td>\n",
       "      <td>4.954167</td>\n",
       "    </tr>\n",
       "    <tr>\n",
       "      <th>2000-01-04</th>\n",
       "      <td>6.271667</td>\n",
       "      <td>5.760417</td>\n",
       "      <td>6.130833</td>\n",
       "      <td>7.2475</td>\n",
       "      <td>8.356667</td>\n",
       "      <td>7.945833</td>\n",
       "      <td>8.443333</td>\n",
       "      <td>9.050833</td>\n",
       "      <td>5.978472</td>\n",
       "      <td>6.318182</td>\n",
       "    </tr>\n",
       "    <tr>\n",
       "      <th>2000-01-05</th>\n",
       "      <td>6.931667</td>\n",
       "      <td>6.138750</td>\n",
       "      <td>6.829167</td>\n",
       "      <td>6.2950</td>\n",
       "      <td>10.555833</td>\n",
       "      <td>8.956667</td>\n",
       "      <td>10.006667</td>\n",
       "      <td>10.250000</td>\n",
       "      <td>6.272222</td>\n",
       "      <td>7.854545</td>\n",
       "    </tr>\n",
       "  </tbody>\n",
       "</table>\n",
       "</div>"
      ],
      "text/plain": [
       "                         1         2         3       4          5         6  \\\n",
       "       Date/Time                                                              \n",
       "2000-01-01        6.082917  5.953333  6.069167  5.3050   9.785833  9.646667   \n",
       "2000-01-02        5.301250  4.738750  4.875833  5.8350   8.520833  8.020000   \n",
       "2000-01-03        4.487500  5.036250  4.943333  3.4250   6.129583  7.123333   \n",
       "2000-01-04        6.271667  5.760417  6.130833  7.2475   8.356667  7.945833   \n",
       "2000-01-05        6.931667  6.138750  6.829167  6.2950  10.555833  8.956667   \n",
       "\n",
       "                          7          8         9        10  \n",
       "       Date/Time                                            \n",
       "2000-01-01         9.898333   9.302083  5.312153  5.487500  \n",
       "2000-01-02         7.675417   8.422917  3.950000  5.525000  \n",
       "2000-01-03         6.697500   6.291667  4.567708  4.954167  \n",
       "2000-01-04         8.443333   9.050833  5.978472  6.318182  \n",
       "2000-01-05        10.006667  10.250000  6.272222  7.854545  "
      ]
     },
     "execution_count": 8,
     "metadata": {},
     "output_type": "execute_result"
    }
   ],
   "source": [
    "ref_data.head()"
   ]
  },
  {
   "cell_type": "markdown",
   "metadata": {
    "_uuid": "c6afd3760c1fd12894682c6232ae0d059badf887"
   },
   "source": [
    "These data have been cleaned and reconstructed so the recovery rate is very good for each sensor."
   ]
  },
  {
   "cell_type": "code",
   "execution_count": 9,
   "metadata": {
    "_uuid": "7b2446567bdcbed7999e709156dc38edca461457"
   },
   "outputs": [
    {
     "data": {
      "text/plain": [
       "sensor\n",
       "DIR_80_AVG          97.888469\n",
       "DIR_95_COMB_AVG     97.888469\n",
       "DIR_95_AVG          97.888469\n",
       "SPD_15_COMB_AVG     96.657766\n",
       "SPD_32_COMB_AVG     96.754443\n",
       "SPD_47_COMB_AVG     98.223000\n",
       "SPD_59_COMB_AVG     98.235276\n",
       "T_4_AVG            100.000000\n",
       "T_58_AVG           100.000000\n",
       "dtype: float64"
      ]
     },
     "execution_count": 9,
     "metadata": {},
     "output_type": "execute_result"
    }
   ],
   "source": [
    "mast_data.count()/mast_data.shape[0]*100.0"
   ]
  },
  {
   "cell_type": "markdown",
   "metadata": {
    "_uuid": "f0aa1b6563a274627a6b52b0851064cc1dcbf2ce"
   },
   "source": [
    "## Anemoi\n",
    "\n",
    "Anemoi is a wind specific analysis package in Python. It is open-sourced under the [MIT License](https://github.com/coryjog/anemoi/blob/master/LICENSE) and free for anyone to use. Documentation, installation instructions, and working examples on Binder can be found [here](https://github.com/coryjog/anemoi). Anemoi is built upon a specific DataFrame format. It assumes a datetime index with sensor data in the columns. It also assumes a specific sensor naming convention with the following form: type_height_orientation_signal. \n",
    "\n",
    "1. Type: type of sensor; valid options include SPD, DIR, T, P, RH, and VBAT\n",
    "2. Height: sensor height in meters (decimals are allowed)\n",
    "3. Orientation: cardinal direction the sensor is installed; valid options include N, NE, E, SE, S, SW, W, NW. COMB or SEL can be used to denote combined and selectively averaged signals. This can also be left blank or skipped with a double underscore.\n",
    "4. Signal: signal aggregation type; valid options include AVG, SD, MIN, MAX, COUNT, GUST\n",
    "\n",
    "Sensor name examples:\n",
    "* Anemometer installed at 59 m with a 350 degree orientation: SPD_59_N_AVG\n",
    "* All columns from an anemometer installed at 59 m with a 350 degree orientation: SPD_59_N_AVG, SPD_59_N_SD, SPD_59_N_MIN, SPD_59_N_MAX\n",
    "* Wind vane installed at 57.5 m with a 180 degree orientation: DIR_57.5_S_AVG or since orientation isn't that important for vanes: DIR_57.5_AVG\n",
    "* Thermometer installed at 3 m with a 0 degree orientation: T_3_N_AVG or T_3_AVG\n",
    "\n",
    "For this demonstation mast, we already have the combined average wind speeds and direction sensors as column labels so it is very straightforward to create an anemoi.MetMast object from the pandas.DataFrame of data."
   ]
  },
  {
   "cell_type": "code",
   "execution_count": 10,
   "metadata": {
    "_uuid": "f8da7ef4bbe0cef30ed8e50c0f1684dcf4cd07c5"
   },
   "outputs": [
    {
     "data": {
      "text/plain": [
       "\n",
       "\n",
       "Mast mast\n",
       "# of sensors: 9\n",
       "Coords: 45.000, -90.000\n",
       "Primary ano: SPD_59_COMB_AVG\n",
       "Primary vane: DIR_95_COMB_AVG"
      ]
     },
     "execution_count": 10,
     "metadata": {},
     "output_type": "execute_result"
    }
   ],
   "source": [
    "mast = an.MetMast(data=mast_data, name='mast', lat=45, lon=-90, height=60, elev=500, primary_ano='SPD_59_COMB_AVG', primary_vane='DIR_95_COMB_AVG')\n",
    "mast"
   ]
  },
  {
   "cell_type": "markdown",
   "metadata": {
    "_uuid": "02ee218d47fefb570df742d0249d50fe270e2de2"
   },
   "source": [
    "Anemoi automatically stores the metadata and takes advantage of panda's MultiIndex functionality to organize the sensor data:"
   ]
  },
  {
   "cell_type": "code",
   "execution_count": 11,
   "metadata": {
    "_uuid": "c928d6a00270132aebd5944bf13d04d17e8f615c"
   },
   "outputs": [
    {
     "data": {
      "text/html": [
       "<div>\n",
       "<style scoped>\n",
       "    .dataframe tbody tr th:only-of-type {\n",
       "        vertical-align: middle;\n",
       "    }\n",
       "\n",
       "    .dataframe tbody tr th {\n",
       "        vertical-align: top;\n",
       "    }\n",
       "\n",
       "    .dataframe thead th {\n",
       "        text-align: right;\n",
       "    }\n",
       "</style>\n",
       "<table border=\"1\" class=\"dataframe\">\n",
       "  <thead>\n",
       "    <tr style=\"text-align: right;\">\n",
       "      <th></th>\n",
       "      <th>mast</th>\n",
       "    </tr>\n",
       "  </thead>\n",
       "  <tbody>\n",
       "    <tr>\n",
       "      <th>height</th>\n",
       "      <td>60</td>\n",
       "    </tr>\n",
       "    <tr>\n",
       "      <th>elev</th>\n",
       "      <td>500</td>\n",
       "    </tr>\n",
       "    <tr>\n",
       "      <th>lat</th>\n",
       "      <td>45</td>\n",
       "    </tr>\n",
       "    <tr>\n",
       "      <th>lon</th>\n",
       "      <td>-90</td>\n",
       "    </tr>\n",
       "    <tr>\n",
       "      <th>primary_ano</th>\n",
       "      <td>SPD_59_COMB_AVG</td>\n",
       "    </tr>\n",
       "    <tr>\n",
       "      <th>primary_vane</th>\n",
       "      <td>DIR_95_COMB_AVG</td>\n",
       "    </tr>\n",
       "  </tbody>\n",
       "</table>\n",
       "</div>"
      ],
      "text/plain": [
       "                         mast\n",
       "height                     60\n",
       "elev                      500\n",
       "lat                        45\n",
       "lon                       -90\n",
       "primary_ano   SPD_59_COMB_AVG\n",
       "primary_vane  DIR_95_COMB_AVG"
      ]
     },
     "execution_count": 11,
     "metadata": {},
     "output_type": "execute_result"
    }
   ],
   "source": [
    "mast.metadata"
   ]
  },
  {
   "cell_type": "code",
   "execution_count": 12,
   "metadata": {
    "_uuid": "6ae612b689e39f807cc74a3250f30186ea8a54e1"
   },
   "outputs": [
    {
     "data": {
      "text/html": [
       "<div>\n",
       "<style scoped>\n",
       "    .dataframe tbody tr th:only-of-type {\n",
       "        vertical-align: middle;\n",
       "    }\n",
       "\n",
       "    .dataframe tbody tr th {\n",
       "        vertical-align: top;\n",
       "    }\n",
       "\n",
       "    .dataframe thead tr th {\n",
       "        text-align: left;\n",
       "    }\n",
       "\n",
       "    .dataframe thead tr:last-of-type th {\n",
       "        text-align: right;\n",
       "    }\n",
       "</style>\n",
       "<table border=\"1\" class=\"dataframe\">\n",
       "  <thead>\n",
       "    <tr>\n",
       "      <th>type</th>\n",
       "      <th colspan=\"3\" halign=\"left\">DIR</th>\n",
       "      <th colspan=\"4\" halign=\"left\">SPD</th>\n",
       "      <th colspan=\"2\" halign=\"left\">T</th>\n",
       "    </tr>\n",
       "    <tr>\n",
       "      <th>height</th>\n",
       "      <th>80.0</th>\n",
       "      <th colspan=\"2\" halign=\"left\">95.0</th>\n",
       "      <th>15.0</th>\n",
       "      <th>32.0</th>\n",
       "      <th>47.0</th>\n",
       "      <th>59.0</th>\n",
       "      <th>4.0</th>\n",
       "      <th>58.0</th>\n",
       "    </tr>\n",
       "    <tr>\n",
       "      <th>orient</th>\n",
       "      <th>-</th>\n",
       "      <th>-</th>\n",
       "      <th>COMB</th>\n",
       "      <th>COMB</th>\n",
       "      <th>COMB</th>\n",
       "      <th>COMB</th>\n",
       "      <th>COMB</th>\n",
       "      <th>-</th>\n",
       "      <th>-</th>\n",
       "    </tr>\n",
       "    <tr>\n",
       "      <th>signal</th>\n",
       "      <th>AVG</th>\n",
       "      <th>AVG</th>\n",
       "      <th>AVG</th>\n",
       "      <th>AVG</th>\n",
       "      <th>AVG</th>\n",
       "      <th>AVG</th>\n",
       "      <th>AVG</th>\n",
       "      <th>AVG</th>\n",
       "      <th>AVG</th>\n",
       "    </tr>\n",
       "    <tr>\n",
       "      <th>sensor</th>\n",
       "      <th>DIR_80_AVG</th>\n",
       "      <th>DIR_95_AVG</th>\n",
       "      <th>DIR_95_COMB_AVG</th>\n",
       "      <th>SPD_15_COMB_AVG</th>\n",
       "      <th>SPD_32_COMB_AVG</th>\n",
       "      <th>SPD_47_COMB_AVG</th>\n",
       "      <th>SPD_59_COMB_AVG</th>\n",
       "      <th>T_4_AVG</th>\n",
       "      <th>T_58_AVG</th>\n",
       "    </tr>\n",
       "    <tr>\n",
       "      <th>Stamp</th>\n",
       "      <th></th>\n",
       "      <th></th>\n",
       "      <th></th>\n",
       "      <th></th>\n",
       "      <th></th>\n",
       "      <th></th>\n",
       "      <th></th>\n",
       "      <th></th>\n",
       "      <th></th>\n",
       "    </tr>\n",
       "  </thead>\n",
       "  <tbody>\n",
       "    <tr>\n",
       "      <th>2014-12-17 11:00:00</th>\n",
       "      <td>124.1</td>\n",
       "      <td>124.1</td>\n",
       "      <td>124.1</td>\n",
       "      <td>NaN</td>\n",
       "      <td>NaN</td>\n",
       "      <td>NaN</td>\n",
       "      <td>NaN</td>\n",
       "      <td>0.3</td>\n",
       "      <td>0.0</td>\n",
       "    </tr>\n",
       "    <tr>\n",
       "      <th>2014-12-17 11:10:00</th>\n",
       "      <td>129.5</td>\n",
       "      <td>129.5</td>\n",
       "      <td>129.5</td>\n",
       "      <td>4.91232</td>\n",
       "      <td>5.27748</td>\n",
       "      <td>5.37336</td>\n",
       "      <td>5.53554</td>\n",
       "      <td>0.4</td>\n",
       "      <td>0.1</td>\n",
       "    </tr>\n",
       "    <tr>\n",
       "      <th>2014-12-17 11:20:00</th>\n",
       "      <td>130.8</td>\n",
       "      <td>130.8</td>\n",
       "      <td>130.8</td>\n",
       "      <td>5.91600</td>\n",
       "      <td>6.30870</td>\n",
       "      <td>6.31890</td>\n",
       "      <td>6.38112</td>\n",
       "      <td>0.4</td>\n",
       "      <td>0.1</td>\n",
       "    </tr>\n",
       "    <tr>\n",
       "      <th>2014-12-17 11:30:00</th>\n",
       "      <td>129.2</td>\n",
       "      <td>129.2</td>\n",
       "      <td>129.2</td>\n",
       "      <td>6.00168</td>\n",
       "      <td>6.50556</td>\n",
       "      <td>6.58920</td>\n",
       "      <td>6.70446</td>\n",
       "      <td>0.4</td>\n",
       "      <td>0.1</td>\n",
       "    </tr>\n",
       "    <tr>\n",
       "      <th>2014-12-17 11:40:00</th>\n",
       "      <td>117.0</td>\n",
       "      <td>117.0</td>\n",
       "      <td>117.0</td>\n",
       "      <td>5.59368</td>\n",
       "      <td>5.98740</td>\n",
       "      <td>6.15978</td>\n",
       "      <td>6.22404</td>\n",
       "      <td>0.5</td>\n",
       "      <td>0.2</td>\n",
       "    </tr>\n",
       "  </tbody>\n",
       "</table>\n",
       "</div>"
      ],
      "text/plain": [
       "type                       DIR                                        SPD  \\\n",
       "height                    80.0       95.0                            15.0   \n",
       "orient                       -          -            COMB            COMB   \n",
       "signal                     AVG        AVG             AVG             AVG   \n",
       "sensor              DIR_80_AVG DIR_95_AVG DIR_95_COMB_AVG SPD_15_COMB_AVG   \n",
       "Stamp                                                                       \n",
       "2014-12-17 11:00:00      124.1      124.1           124.1             NaN   \n",
       "2014-12-17 11:10:00      129.5      129.5           129.5         4.91232   \n",
       "2014-12-17 11:20:00      130.8      130.8           130.8         5.91600   \n",
       "2014-12-17 11:30:00      129.2      129.2           129.2         6.00168   \n",
       "2014-12-17 11:40:00      117.0      117.0           117.0         5.59368   \n",
       "\n",
       "type                                                                      T  \\\n",
       "height                         32.0            47.0            59.0    4.0    \n",
       "orient                         COMB            COMB            COMB       -   \n",
       "signal                          AVG             AVG             AVG     AVG   \n",
       "sensor              SPD_32_COMB_AVG SPD_47_COMB_AVG SPD_59_COMB_AVG T_4_AVG   \n",
       "Stamp                                                                         \n",
       "2014-12-17 11:00:00             NaN             NaN             NaN     0.3   \n",
       "2014-12-17 11:10:00         5.27748         5.37336         5.53554     0.4   \n",
       "2014-12-17 11:20:00         6.30870         6.31890         6.38112     0.4   \n",
       "2014-12-17 11:30:00         6.50556         6.58920         6.70446     0.4   \n",
       "2014-12-17 11:40:00         5.98740         6.15978         6.22404     0.5   \n",
       "\n",
       "type                          \n",
       "height                  58.0  \n",
       "orient                     -  \n",
       "signal                   AVG  \n",
       "sensor              T_58_AVG  \n",
       "Stamp                         \n",
       "2014-12-17 11:00:00      0.0  \n",
       "2014-12-17 11:10:00      0.1  \n",
       "2014-12-17 11:20:00      0.1  \n",
       "2014-12-17 11:30:00      0.1  \n",
       "2014-12-17 11:40:00      0.2  "
      ]
     },
     "execution_count": 12,
     "metadata": {},
     "output_type": "execute_result"
    }
   ],
   "source": [
    "mast.data.head()"
   ]
  },
  {
   "cell_type": "markdown",
   "metadata": {
    "_uuid": "0155453aed73a91e900e2e318dbe7a3fa2a5d0d7"
   },
   "source": [
    "This library is still under active development so please be patient. As of June 2018, the primary focus has been on manipulating mast data and calculating annual shear. Correlations, data synthesis, and frequency distribution functionality are planned by the end of 2018. If you would like to help with development please let me know and we can work together. \n",
    "\n",
    "Now, our first analysis quetsion is: what does our wind and energy rose look like at this site? A simple function to calculate the energy and wind roses has already been included in Anemoi. It requires you pass it wind speed and direction data and define which column corresponds to which sensor."
   ]
  },
  {
   "cell_type": "code",
   "execution_count": 13,
   "metadata": {
    "_uuid": "28f09e0ddc0766ebf4bd951f65d44a7682b5380d"
   },
   "outputs": [
    {
     "ename": "AttributeError",
     "evalue": "module 'anemoi.utils.mast_data' has no attribute 'return_sensor_data'",
     "output_type": "error",
     "traceback": [
      "\u001b[0;31m---------------------------------------------------------------------------\u001b[0m",
      "\u001b[0;31mAttributeError\u001b[0m                            Traceback (most recent call last)",
      "\u001b[0;32m<ipython-input-13-16283bf76421>\u001b[0m in \u001b[0;36m<module>\u001b[0;34m\u001b[0m\n\u001b[0;32m----> 1\u001b[0;31m \u001b[0mano_vane_data\u001b[0m \u001b[0;34m=\u001b[0m \u001b[0mmast\u001b[0m\u001b[0;34m.\u001b[0m\u001b[0mreturn_primary_ano_vane_data\u001b[0m\u001b[0;34m(\u001b[0m\u001b[0;34m)\u001b[0m\u001b[0;34m.\u001b[0m\u001b[0mdropna\u001b[0m\u001b[0;34m(\u001b[0m\u001b[0;34m)\u001b[0m\u001b[0;34m\u001b[0m\u001b[0;34m\u001b[0m\u001b[0m\n\u001b[0m\u001b[1;32m      2\u001b[0m \u001b[0mano_vane_data\u001b[0m\u001b[0;34m.\u001b[0m\u001b[0mcolumns\u001b[0m \u001b[0;34m=\u001b[0m \u001b[0mano_vane_data\u001b[0m\u001b[0;34m.\u001b[0m\u001b[0mcolumns\u001b[0m\u001b[0;34m.\u001b[0m\u001b[0mget_level_values\u001b[0m\u001b[0;34m(\u001b[0m\u001b[0;34m'sensor'\u001b[0m\u001b[0;34m)\u001b[0m\u001b[0;34m\u001b[0m\u001b[0;34m\u001b[0m\u001b[0m\n\u001b[1;32m      3\u001b[0m \u001b[0menergy_wind_roses\u001b[0m \u001b[0;34m=\u001b[0m \u001b[0man\u001b[0m\u001b[0;34m.\u001b[0m\u001b[0manalysis\u001b[0m\u001b[0;34m.\u001b[0m\u001b[0mwind_rose\u001b[0m\u001b[0;34m.\u001b[0m\u001b[0mreturn_directional_energy_frequencies\u001b[0m\u001b[0;34m(\u001b[0m\u001b[0mano_vane_data\u001b[0m\u001b[0;34m,\u001b[0m \u001b[0mws_sensor\u001b[0m\u001b[0;34m=\u001b[0m\u001b[0mmast\u001b[0m\u001b[0;34m.\u001b[0m\u001b[0mprimary_ano\u001b[0m\u001b[0;34m,\u001b[0m \u001b[0mdir_sensor\u001b[0m\u001b[0;34m=\u001b[0m\u001b[0mmast\u001b[0m\u001b[0;34m.\u001b[0m\u001b[0mprimary_vane\u001b[0m\u001b[0;34m)\u001b[0m\u001b[0;34m\u001b[0m\u001b[0;34m\u001b[0m\u001b[0m\n\u001b[1;32m      4\u001b[0m \u001b[0menergy_wind_roses\u001b[0m\u001b[0;34m\u001b[0m\u001b[0;34m\u001b[0m\u001b[0m\n",
      "\u001b[0;32m~/anaconda3/lib/python3.7/site-packages/anemoi/mast.py\u001b[0m in \u001b[0;36mreturn_primary_ano_vane_data\u001b[0;34m(self)\u001b[0m\n\u001b[1;32m    310\u001b[0m         '''Returns a DataFrame of measured data from the primary anemometer and primary wind vane\n\u001b[1;32m    311\u001b[0m         '''\n\u001b[0;32m--> 312\u001b[0;31m         \u001b[0mano_data\u001b[0m \u001b[0;34m=\u001b[0m \u001b[0mself\u001b[0m\u001b[0;34m.\u001b[0m\u001b[0mreturn_primary_ano_data\u001b[0m\u001b[0;34m(\u001b[0m\u001b[0;34m)\u001b[0m\u001b[0;34m\u001b[0m\u001b[0;34m\u001b[0m\u001b[0m\n\u001b[0m\u001b[1;32m    313\u001b[0m         \u001b[0mvane_data\u001b[0m \u001b[0;34m=\u001b[0m \u001b[0mself\u001b[0m\u001b[0;34m.\u001b[0m\u001b[0mreturn_primary_vane_data\u001b[0m\u001b[0;34m(\u001b[0m\u001b[0;34m)\u001b[0m\u001b[0;34m\u001b[0m\u001b[0;34m\u001b[0m\u001b[0m\n\u001b[1;32m    314\u001b[0m         \u001b[0;32mreturn\u001b[0m \u001b[0mpd\u001b[0m\u001b[0;34m.\u001b[0m\u001b[0mconcat\u001b[0m\u001b[0;34m(\u001b[0m\u001b[0;34m[\u001b[0m\u001b[0mano_data\u001b[0m\u001b[0;34m,\u001b[0m \u001b[0mvane_data\u001b[0m\u001b[0;34m]\u001b[0m\u001b[0;34m,\u001b[0m \u001b[0maxis\u001b[0m\u001b[0;34m=\u001b[0m\u001b[0;36m1\u001b[0m\u001b[0;34m)\u001b[0m\u001b[0;34m\u001b[0m\u001b[0;34m\u001b[0m\u001b[0m\n",
      "\u001b[0;32m~/anaconda3/lib/python3.7/site-packages/anemoi/mast.py\u001b[0m in \u001b[0;36mreturn_primary_ano_data\u001b[0;34m(self)\u001b[0m\n\u001b[1;32m    300\u001b[0m         '''Returns a DataFrame of measured data from the primary anemomter\n\u001b[1;32m    301\u001b[0m         '''\n\u001b[0;32m--> 302\u001b[0;31m         \u001b[0;32mreturn\u001b[0m \u001b[0mself\u001b[0m\u001b[0;34m.\u001b[0m\u001b[0mreturn_sensor_data\u001b[0m\u001b[0;34m(\u001b[0m\u001b[0msensors\u001b[0m\u001b[0;34m=\u001b[0m\u001b[0mself\u001b[0m\u001b[0;34m.\u001b[0m\u001b[0mprimary_ano\u001b[0m\u001b[0;34m)\u001b[0m\u001b[0;34m\u001b[0m\u001b[0;34m\u001b[0m\u001b[0m\n\u001b[0m\u001b[1;32m    303\u001b[0m \u001b[0;34m\u001b[0m\u001b[0m\n\u001b[1;32m    304\u001b[0m     \u001b[0;32mdef\u001b[0m \u001b[0mreturn_primary_vane_data\u001b[0m\u001b[0;34m(\u001b[0m\u001b[0mself\u001b[0m\u001b[0;34m)\u001b[0m\u001b[0;34m:\u001b[0m\u001b[0;34m\u001b[0m\u001b[0;34m\u001b[0m\u001b[0m\n",
      "\u001b[0;32m~/anaconda3/lib/python3.7/site-packages/anemoi/mast.py\u001b[0m in \u001b[0;36mreturn_sensor_data\u001b[0;34m(self, sensors)\u001b[0m\n\u001b[1;32m    295\u001b[0m             \u001b[0mList\u001b[0m \u001b[0mof\u001b[0m \u001b[0mspecific\u001b[0m \u001b[0msensors\u001b[0m \u001b[0;32mfrom\u001b[0m \u001b[0mwhich\u001b[0m \u001b[0mto\u001b[0m \u001b[0;32mreturn\u001b[0m \u001b[0mdata\u001b[0m\u001b[0;34m\u001b[0m\u001b[0;34m\u001b[0m\u001b[0m\n\u001b[1;32m    296\u001b[0m         '''\n\u001b[0;32m--> 297\u001b[0;31m         \u001b[0;32mreturn\u001b[0m \u001b[0man\u001b[0m\u001b[0;34m.\u001b[0m\u001b[0mutils\u001b[0m\u001b[0;34m.\u001b[0m\u001b[0mmast_data\u001b[0m\u001b[0;34m.\u001b[0m\u001b[0mreturn_sensor_data\u001b[0m\u001b[0;34m(\u001b[0m\u001b[0mself\u001b[0m\u001b[0;34m.\u001b[0m\u001b[0mdata\u001b[0m\u001b[0;34m,\u001b[0m \u001b[0msensors\u001b[0m\u001b[0;34m=\u001b[0m\u001b[0msensors\u001b[0m\u001b[0;34m)\u001b[0m\u001b[0;34m\u001b[0m\u001b[0;34m\u001b[0m\u001b[0m\n\u001b[0m\u001b[1;32m    298\u001b[0m \u001b[0;34m\u001b[0m\u001b[0m\n\u001b[1;32m    299\u001b[0m     \u001b[0;32mdef\u001b[0m \u001b[0mreturn_primary_ano_data\u001b[0m\u001b[0;34m(\u001b[0m\u001b[0mself\u001b[0m\u001b[0;34m)\u001b[0m\u001b[0;34m:\u001b[0m\u001b[0;34m\u001b[0m\u001b[0;34m\u001b[0m\u001b[0m\n",
      "\u001b[0;31mAttributeError\u001b[0m: module 'anemoi.utils.mast_data' has no attribute 'return_sensor_data'"
     ]
    }
   ],
   "source": [
    "ano_vane_data = mast.return_primary_ano_vane_data().dropna()\n",
    "ano_vane_data.columns = ano_vane_data.columns.get_level_values('sensor')\n",
    "energy_wind_roses = an.analysis.wind_rose.return_directional_energy_frequencies(ano_vane_data, ws_sensor=mast.primary_ano, dir_sensor=mast.primary_vane)\n",
    "energy_wind_roses"
   ]
  },
  {
   "cell_type": "code",
   "execution_count": 14,
   "metadata": {
    "_uuid": "2073b8e0cdb2e0c9d2318597d361cc4b9c0b5a71"
   },
   "outputs": [
    {
     "ename": "NameError",
     "evalue": "name 'energy_wind_roses' is not defined",
     "output_type": "error",
     "traceback": [
      "\u001b[0;31m---------------------------------------------------------------------------\u001b[0m",
      "\u001b[0;31mNameError\u001b[0m                                 Traceback (most recent call last)",
      "\u001b[0;32m<ipython-input-14-6b362212a7e5>\u001b[0m in \u001b[0;36m<module>\u001b[0;34m\u001b[0m\n\u001b[1;32m      8\u001b[0m \u001b[0max1\u001b[0m \u001b[0;34m=\u001b[0m \u001b[0mfig\u001b[0m\u001b[0;34m.\u001b[0m\u001b[0madd_subplot\u001b[0m\u001b[0;34m(\u001b[0m\u001b[0;36m121\u001b[0m\u001b[0;34m,\u001b[0m \u001b[0mprojection\u001b[0m\u001b[0;34m=\u001b[0m\u001b[0;34m'polar'\u001b[0m\u001b[0;34m)\u001b[0m\u001b[0;34m\u001b[0m\u001b[0;34m\u001b[0m\u001b[0m\n\u001b[1;32m      9\u001b[0m \u001b[0max2\u001b[0m \u001b[0;34m=\u001b[0m \u001b[0mfig\u001b[0m\u001b[0;34m.\u001b[0m\u001b[0madd_subplot\u001b[0m\u001b[0;34m(\u001b[0m\u001b[0;36m122\u001b[0m\u001b[0;34m,\u001b[0m \u001b[0mprojection\u001b[0m\u001b[0;34m=\u001b[0m\u001b[0;34m'polar'\u001b[0m\u001b[0;34m)\u001b[0m\u001b[0;34m\u001b[0m\u001b[0;34m\u001b[0m\u001b[0m\n\u001b[0;32m---> 10\u001b[0;31m \u001b[0max1\u001b[0m\u001b[0;34m.\u001b[0m\u001b[0mbar\u001b[0m\u001b[0;34m(\u001b[0m\u001b[0mnp\u001b[0m\u001b[0;34m.\u001b[0m\u001b[0mradians\u001b[0m\u001b[0;34m(\u001b[0m\u001b[0menergy_wind_roses\u001b[0m\u001b[0;34m.\u001b[0m\u001b[0mindex\u001b[0m\u001b[0;34m.\u001b[0m\u001b[0mvalues\u001b[0m\u001b[0;34m)\u001b[0m\u001b[0;34m,\u001b[0m \u001b[0menergy_wind_roses\u001b[0m\u001b[0;34m.\u001b[0m\u001b[0mdir\u001b[0m\u001b[0;34m,\u001b[0m \u001b[0mwidth\u001b[0m\u001b[0;34m=\u001b[0m\u001b[0mnp\u001b[0m\u001b[0;34m.\u001b[0m\u001b[0mradians\u001b[0m\u001b[0;34m(\u001b[0m\u001b[0;36m360.0\u001b[0m\u001b[0;34m/\u001b[0m\u001b[0menergy_wind_roses\u001b[0m\u001b[0;34m.\u001b[0m\u001b[0mshape\u001b[0m\u001b[0;34m[\u001b[0m\u001b[0;36m0\u001b[0m\u001b[0;34m]\u001b[0m\u001b[0;34m+\u001b[0m\u001b[0;36m1\u001b[0m\u001b[0;34m)\u001b[0m\u001b[0;34m,\u001b[0m \u001b[0mcolor\u001b[0m\u001b[0;34m=\u001b[0m\u001b[0medf_green\u001b[0m\u001b[0;34m)\u001b[0m\u001b[0;34m\u001b[0m\u001b[0;34m\u001b[0m\u001b[0m\n\u001b[0m\u001b[1;32m     11\u001b[0m \u001b[0max2\u001b[0m\u001b[0;34m.\u001b[0m\u001b[0mbar\u001b[0m\u001b[0;34m(\u001b[0m\u001b[0mnp\u001b[0m\u001b[0;34m.\u001b[0m\u001b[0mradians\u001b[0m\u001b[0;34m(\u001b[0m\u001b[0menergy_wind_roses\u001b[0m\u001b[0;34m.\u001b[0m\u001b[0mindex\u001b[0m\u001b[0;34m.\u001b[0m\u001b[0mvalues\u001b[0m\u001b[0;34m)\u001b[0m\u001b[0;34m,\u001b[0m \u001b[0menergy_wind_roses\u001b[0m\u001b[0;34m.\u001b[0m\u001b[0menergy\u001b[0m\u001b[0;34m,\u001b[0m \u001b[0mwidth\u001b[0m\u001b[0;34m=\u001b[0m\u001b[0mnp\u001b[0m\u001b[0;34m.\u001b[0m\u001b[0mradians\u001b[0m\u001b[0;34m(\u001b[0m\u001b[0;36m360.0\u001b[0m\u001b[0;34m/\u001b[0m\u001b[0menergy_wind_roses\u001b[0m\u001b[0;34m.\u001b[0m\u001b[0mshape\u001b[0m\u001b[0;34m[\u001b[0m\u001b[0;36m0\u001b[0m\u001b[0;34m]\u001b[0m\u001b[0;34m+\u001b[0m\u001b[0;36m1\u001b[0m\u001b[0;34m)\u001b[0m\u001b[0;34m,\u001b[0m \u001b[0mcolor\u001b[0m\u001b[0;34m=\u001b[0m\u001b[0medf_blue\u001b[0m\u001b[0;34m)\u001b[0m\u001b[0;34m\u001b[0m\u001b[0;34m\u001b[0m\u001b[0m\n\u001b[1;32m     12\u001b[0m \u001b[0;34m[\u001b[0m\u001b[0mrose_axis_settings\u001b[0m\u001b[0;34m(\u001b[0m\u001b[0max\u001b[0m\u001b[0;34m)\u001b[0m \u001b[0;32mfor\u001b[0m \u001b[0max\u001b[0m \u001b[0;32min\u001b[0m \u001b[0;34m[\u001b[0m\u001b[0max1\u001b[0m\u001b[0;34m,\u001b[0m\u001b[0max2\u001b[0m\u001b[0;34m]\u001b[0m\u001b[0;34m]\u001b[0m\u001b[0;34m\u001b[0m\u001b[0;34m\u001b[0m\u001b[0m\n",
      "\u001b[0;31mNameError\u001b[0m: name 'energy_wind_roses' is not defined"
     ]
    },
    {
     "data": {
      "image/png": "[encoded data removed]",
      "text/plain": [
       "<Figure size 864x432 with 2 Axes>"
      ]
     },
     "metadata": {},
     "output_type": "display_data"
    }
   ],
   "source": [
    "def rose_axis_settings(ax):\n",
    "    ax.set_theta_direction('clockwise')\n",
    "    ax.set_theta_zero_location('N')\n",
    "    ax.set_xticklabels(['', '', 'E', '', 'S', '', 'W', ''])\n",
    "    ax.set_yticklabels('')\n",
    "\n",
    "fig = plt.figure(figsize=[12,6])\n",
    "ax1 = fig.add_subplot(121, projection='polar')\n",
    "ax2 = fig.add_subplot(122, projection='polar')\n",
    "ax1.bar(np.radians(energy_wind_roses.index.values), energy_wind_roses.dir, width=np.radians(360.0/energy_wind_roses.shape[0]+1), color=edf_green)\n",
    "ax2.bar(np.radians(energy_wind_roses.index.values), energy_wind_roses.energy, width=np.radians(360.0/energy_wind_roses.shape[0]+1), color=edf_blue)\n",
    "[rose_axis_settings(ax) for ax in [ax1,ax2]]\n",
    "ax1.set_title('Wind Rose')\n",
    "ax2.set_title('Energy Rose')\n",
    "plt.tight_layout()\n",
    "plt.show()"
   ]
  },
  {
   "cell_type": "markdown",
   "metadata": {
    "_uuid": "e6de15629fc43b6107852af2184c431bdff4dd13"
   },
   "source": [
    "Next, what is the mean of monthly means (momm) wind speed at the top measurement height?"
   ]
  },
  {
   "cell_type": "code",
   "execution_count": null,
   "metadata": {
    "_uuid": "148870a1eb39f449ea5143932dbd99c25c223067"
   },
   "outputs": [],
   "source": [
    "momm_meas = an.utils.mast_data.return_momm(mast.return_primary_ano_data()).T.MoMM[0]\n",
    "print('MoMM at measurement height: {:.3f} m/s'.format(momm_meas))"
   ]
  },
  {
   "cell_type": "markdown",
   "metadata": {
    "_uuid": "ac1a935d5e498b4543a516fe090e94a8790563f1"
   },
   "source": [
    "## Shear analysis\n",
    "Anemoi is more developed in its shear analysis functionality because this module, being the easiest to construct, is being used to demostrate and launch the project. With the an.analysis.shear.mast_annual method you can pass an an.MetMast object and anemoi will return the alpha matrix between each anemometer, grouped by orientation. The demostration mast only has a single orientation, but if we had included the NW and SE facing anemometers the shear would have been calculated for each of these sensor combinations as well."
   ]
  },
  {
   "cell_type": "code",
   "execution_count": null,
   "metadata": {
    "_uuid": "e025400a6ae1ad7c23bca88b6114bd5223a93d63"
   },
   "outputs": [],
   "source": [
    "shear = an.analysis.shear.mast_annual(mast)\n",
    "shear"
   ]
  },
  {
   "cell_type": "markdown",
   "metadata": {
    "_uuid": "96628a042db110f0b2dbabbfb3e98b4635ab977f"
   },
   "source": [
    "We prefer to use [Plotly's interactive charting](https://plot.ly/python/) to analize the shear between sensor combinations. An analyst can turn on and off the sensor combinations using the legend. This is included in anemoi."
   ]
  },
  {
   "cell_type": "code",
   "execution_count": null,
   "metadata": {
    "_uuid": "5d799d8fe33e13dbcdea6aced4f9aa79c582c57a"
   },
   "outputs": [],
   "source": [
    "shear_fig = an.plotting.shear.annual_mast_results(shear)\n",
    "offline.iplot(shear_fig)"
   ]
  },
  {
   "cell_type": "markdown",
   "metadata": {
    "_uuid": "7344190e4b3b2f920c73304bc459f51ce1cfd100"
   },
   "source": [
    "\n",
    "\n",
    "\n",
    "For this site, we have two possible options to chose the representative annual shear. One is to take the average of all the sensor combinations. The other is to take the top sensor combination because it appears there is a risk of the shear relaxing with height and since we're extrapolating up to 120 m our final results will depend on our shear analysis. Maybe even better yet, we could do both and explore the sensetivity between the two:"
   ]
  },
  {
   "cell_type": "code",
   "execution_count": null,
   "metadata": {
    "_uuid": "640fd14ea1414b496c6c07f389e671268afbabb5"
   },
   "outputs": [],
   "source": [
    "shear_mean = shear.melt().value.mean()\n",
    "shear_top = shear.loc[pd.IndexSlice['COMB',47],59]\n",
    "print('Mean shear: {:.3f} and top shear: {:.3f}'.format(shear_mean, shear_top))"
   ]
  },
  {
   "cell_type": "markdown",
   "metadata": {
    "_uuid": "e6d80b958078ed974c6ab776928a5dd18889c74a"
   },
   "source": [
    "## Reference Data Exploratory Analysis\n",
    "\n",
    "Now we look at some of the data characteristics of our reference station data in order to ensure they are valid options for MCP. First, are the annual profiles similar? And then, are there any concerning trends in the data that would indicate inconsistencies at the reference stations? We can check this by normalizing the monthly mean wind speeds by the long-term mean for each month. "
   ]
  },
  {
   "cell_type": "code",
   "execution_count": null,
   "metadata": {
    "_uuid": "f672051338039d6044abba2e0a259533b60dbb89"
   },
   "outputs": [],
   "source": [
    "ref_monthly_means = ref_data.groupby(ref_data.index.month).mean()\n",
    "\n",
    "fig = plt.figure(figsize=[12,6])\n",
    "ax = fig.add_subplot(111)\n",
    "(ref_monthly_means/ref_data.mean()).plot(legend=False, xlim=[1,12], ax=ax, title='Normalized annual profiles')\n",
    "ax.set_xticks(ref_monthly_means.index.values)\n",
    "ax.set_xlabel('Month')\n",
    "plt.show()"
   ]
  },
  {
   "cell_type": "code",
   "execution_count": null,
   "metadata": {
    "_uuid": "c913a4606d3a8881d393c9454632b58227ab8614"
   },
   "outputs": [],
   "source": [
    "ref_yearly_monthly_means = ref_data.resample('MS').mean()\n",
    "ref_monthly_means_repeat = ref_monthly_means.loc[ref_yearly_monthly_means.index.month,:]\n",
    "ref_monthly_means_repeat.index = ref_yearly_monthly_means.index\n",
    "ref_normalized_yearly_monthly_means = ref_yearly_monthly_means/ref_monthly_means_repeat\n",
    "normalized_rolling_monthly_average_figure = ref_normalized_yearly_monthly_means.rolling(12, min_periods=10).mean().dropna(how='all')\n",
    "\n",
    "plotly_fig = an.plotting.references.normalized_rolling_monthly_average_figure(normalized_rolling_monthly_average_figure)\n",
    "offline.iplot(plotly_fig)"
   ]
  },
  {
   "cell_type": "markdown",
   "metadata": {
    "_uuid": "5d5d0d5372b758a2ff2dea76597de0876fe70ea3"
   },
   "source": [
    "Again, we can use the legend to turn on and off the normalized monthly rolling average traces. This is a highly subjective test but it would appear reference stations 9 and 10 display inconsistent behavior. If you turn them off you can see the monthly anomalies become much tighter.\n",
    "\n",
    "## Long-term analysis\n",
    "\n",
    "### MCP\n",
    "\n",
    "We are now ready to correlate our site to our reference stations and estimate our long-term mean wind speed at our measurement height. We'll then apply our alpha value(s) to our long-term mean wind speed to get our long-term hub-height mean wind speed at our mast locations. We're making good progress. \n",
    "\n",
    "There are many correlation methods available, for simplicity we'll perform a daily correlation binned by month between our site and each reference station. First we'll resample our mast data to daily. We'll then concatnate our site and reference data to pass to anemoi's correlation methods. "
   ]
  },
  {
   "cell_type": "code",
   "execution_count": null,
   "metadata": {
    "_uuid": "d222c34b7abcb5a1415e247b4287edf55a7640f3"
   },
   "outputs": [],
   "source": [
    "daily_mast_data = mast.return_primary_ano_data().resample('D').mean()\n",
    "daily_mast_data.columns = daily_mast_data.columns.get_level_values('sensor')\n",
    "daily_data = pd.concat([daily_mast_data,ref_data], axis=1)\n",
    "daily_data.dropna().head()"
   ]
  },
  {
   "cell_type": "markdown",
   "metadata": {
    "_uuid": "5c8208167c8abd3a076e9051985b5b6f1dd6d5f5"
   },
   "source": [
    "Here is an example of a daily correlation binned by month between our site and Reference Station 1. Orthogonal distance regression is used by default but least squares and the robust linear model are also available. You'll probably notice the uncertainty calculation hasn't been fully tested. Right now anemoi uses the IEC site calibration method of comparing the standard deviation of the wind speed ratios but this breaksdown when the slope is very far from unity. "
   ]
  },
  {
   "cell_type": "code",
   "execution_count": null,
   "metadata": {
    "_uuid": "f880972320e46ee2bd2573ea942275e3bc792995"
   },
   "outputs": [],
   "source": [
    "an.analysis.correlate.ws_correlation_binned_by_month(daily_data, site_ws_col=mast.primary_ano, ref_ws_col='1')"
   ]
  },
  {
   "cell_type": "markdown",
   "metadata": {
    "_uuid": "2097dcc244a94e79af94bef595054cdcf930aa56"
   },
   "source": [
    "Now we can cycle through our reference stations to get the correlation results while leaving out Referene Stations 9 and 10 because of the suspected inconsistency discussed above. As an aside, this takes about seven seconds to loop through the 96 monthly correaltions which is about 40% of the overall time needed to run the entire notebook. This is where a majority of the needed compute comes from and really this tiny relative to modern compute capabilities. The correlary is that typical wind resource assessment is no where near being considered 'big data'. We can rejoice, this makes things much more simple for us!"
   ]
  },
  {
   "cell_type": "code",
   "execution_count": null,
   "metadata": {
    "_uuid": "136e5fbc64f1da5d915b5f0b46277c7e876b8976"
   },
   "outputs": [],
   "source": [
    "# %%timeit: 7.6 s ± 110 ms per loop (mean ± std. dev. of 7 runs, 1 loop each)\n",
    "valid_refs = np.arange(1,9).astype(str)\n",
    "daily_corr_results = [an.analysis.correlate.ws_correlation_binned_by_month(daily_data, site_ws_col=mast.primary_ano, ref_ws_col=ref) for ref in valid_refs]\n",
    "daily_corr_results = pd.concat(daily_corr_results, axis=0, keys=valid_refs, names=['ref','month'])\n",
    "daily_corr_results.head(20)"
   ]
  },
  {
   "cell_type": "markdown",
   "metadata": {
    "_uuid": "e367f473ce7466434d38784f8ae5b6896f61532e"
   },
   "source": [
    "Now that we have the measure and correlate steps complete, we need to apply our correaltions to our reference data to predict our site wind speeds. We'll do this by applying the monthly correlations to our data and then splicing with our measured data so that for any given day we take the measured data over the synthesized data. Alternatively, we could apply our correlations to the monthly mean reference data but this would de-prioritize measure site data and isn't recommended. "
   ]
  },
  {
   "cell_type": "code",
   "execution_count": null,
   "metadata": {
    "_uuid": "db050d855a6ea2577f87747abf657d0cce5f45fd"
   },
   "outputs": [],
   "source": [
    "syn_data = [an.analysis.correlate.apply_daily_results_by_month_to_mast_data(daily_data, daily_corr_results.loc[ref,:], ref_ws_col=ref, site_ws_col=mast.primary_ano, splice=True).syn_splice for ref in valid_refs]\n",
    "syn_data = pd.concat(syn_data, axis=1, keys=valid_refs)\n",
    "long_term_predictions = an.utils.mast_data.return_momm(syn_data).T.MoMM\n",
    "long_term_predictions"
   ]
  },
  {
   "cell_type": "markdown",
   "metadata": {
    "_uuid": "e5a39441a180f1a068c7ecb785d72a08e417ab90"
   },
   "source": [
    "The long-term predictions represent the predicted long-term mean wind speed at our mast at measurement height from each valid reference station, Reference Station 1 - 8. We can see the percent adjustment each station predicts by normalizing by the measured mean wind speed."
   ]
  },
  {
   "cell_type": "code",
   "execution_count": null,
   "metadata": {
    "_uuid": "1b0c7fbd3c54d49c6d50817bb7af6ee409e414a0"
   },
   "outputs": [],
   "source": [
    "(long_term_predictions/momm_meas-1)*100.0"
   ]
  },
  {
   "cell_type": "markdown",
   "metadata": {
    "_uuid": "5e8e58e40eac3eab2f91e18cd5db06044a8a60b0"
   },
   "source": [
    "All of our reference station predict and upwards adjustment which means our measured period was below the long-term average. You can also see this by mousing over the normalized monthly rolling averages for 2014 and 2015. All of them are below 1. There are a bunch of ways we could combine these predictions but for the sake of simplicity and for demonstration purposes we'll just take the simple mean of all the predictions."
   ]
  },
  {
   "cell_type": "code",
   "execution_count": null,
   "metadata": {
    "_uuid": "89d9f332450e87bf087ab4f0848da8a0b231ce14"
   },
   "outputs": [],
   "source": [
    "lt_mws = long_term_predictions.mean()\n",
    "print('Long-term mean wind speed at 59 m: {:.3f} m/s'.format(lt_mws))"
   ]
  },
  {
   "cell_type": "markdown",
   "metadata": {
    "_uuid": "4c496da208c63efe02d559769a5009b618d75b75"
   },
   "source": [
    "Finally, if we apply our alpha values to our long-term mean wind speed at measurement height we calculate our long-term hub-height mean wind speed at the mast location."
   ]
  },
  {
   "cell_type": "code",
   "execution_count": null,
   "metadata": {
    "_uuid": "91d09ad5a287f28eeb42d286bdf4de5e360b2a4f"
   },
   "outputs": [],
   "source": [
    "hub_height = 120 #m\n",
    "meas_height = 59 #m\n",
    "lt_hh_mws_top_alpha = lt_mws * (hub_height/meas_height)**shear_top\n",
    "lt_hh_mws_mean_alpha = lt_mws * (hub_height/meas_height)**shear_mean\n",
    "print('Long-term hub-height mean wind speed using top sensor combination for shear: {:.3f} m/s'.format(lt_hh_mws_top_alpha))\n",
    "print('Long-term hub-height mean wind speed using mean of all sensor combinations for shear: {:.3f} m/s'.format(lt_hh_mws_mean_alpha))"
   ]
  },
  {
   "cell_type": "markdown",
   "metadata": {
    "_uuid": "dd46fb9baaa08ef8cc6ddd77dc10f18165977f3c"
   },
   "source": [
    "Now we have our long-term hub height mean wind speeds. There seems to be about a 1.6% difference in our wind speeds depending on the shear methodology we choose. This is helpful information to know and can be passed along to the finaincal modeling team as a stress case or potential upside. This can also help inform the uncertainty analysis which isn't covered in this notebook."
   ]
  },
  {
   "cell_type": "markdown",
   "metadata": {
    "_uuid": "975ceeda332098f1d1ba5f4d183885084d9c3c36"
   },
   "source": [
    "## Frequency distribution analysis\n",
    "\n",
    "Finally, we've reached the last step in our typical assessment where we need to define the shape of our wind speed distribution. We'll then scale this to our long-term hub-height mean wind speed and produce a .tab file as our input to our wind flow model. We again have multiple methods we could employ. The simplest methodology would be to assume our frequency distribution shape doens't change with height and scale our measurement height data to our long-term hub-height mean winds speed. A bit more complex would be to assume the shear between a sensor pair and apply that alpha value time series to our 59 m sensor data. One even more complex option would be to fit a log-law model to our data on a 10-minute basis using all our sensors. We could then apply the shear for every 10-minute record that fell within a goodness-of-fit threshold and for every record outside our limits we could apply a lookup table of alpha values binned by direction, season, and time of day. \n",
    "\n",
    "All of these are possible within Python but the last one isn't yet included in Anemoi. For demonstration purposes we'll take the middle road and assume the shear profile between a single sensor combination on a 10-minute basis. For this example we'll assume the top-level anemomter combination. "
   ]
  },
  {
   "cell_type": "code",
   "execution_count": null,
   "metadata": {
    "_uuid": "1e980eb14a1c26718bcb4740b77da1d8bd561476"
   },
   "outputs": [],
   "source": [
    "alpha_time_series = an.analysis.shear.alpha_time_series(mast.data, wind_speed_sensors=['SPD_47_COMB_AVG','SPD_59_COMB_AVG'], heights=[47,59])\n",
    "alpha_time_series[alpha_time_series>1] = np.nan\n",
    "alpha_time_series[alpha_time_series<-1] = np.nan\n",
    "\n",
    "ano_data = mast.return_primary_ano_data()\n",
    "ano_data.columns = ano_data.columns.get_level_values('sensor')\n",
    "hub_height_time_series = ano_data[mast.primary_ano] * (hub_height/meas_height)**alpha_time_series.alpha\n",
    "\n",
    "hub_height_mws = an.utils.mast_data.return_momm(hub_height_time_series.to_frame('hh_mws')).T.MoMM[0]\n",
    "hub_height_adj = lt_hh_mws_top_alpha/hub_height_mws\n",
    "lt_hh_mws_time_series = (hub_height_time_series*hub_height_adj).dropna()"
   ]
  },
  {
   "cell_type": "code",
   "execution_count": null,
   "metadata": {
    "_uuid": "36023bd8cc719129cb536cf79c09fe4031701864"
   },
   "outputs": [],
   "source": [
    "A,k = an.analysis.weibull.euro_atlas_fit(lt_hh_mws_time_series.values)\n",
    "freq_by_ws = lt_hh_mws_time_series.groupby(lt_hh_mws_time_series.round()).count() / lt_hh_mws_time_series.shape[0]\n",
    "freq_by_ws.index = freq_by_ws.index.astype(int)\n",
    "\n",
    "x = np.linspace(0,23,100)\n",
    "\n",
    "fig = plt.figure(figsize=[9,6])\n",
    "ax = fig.add_subplot(111)\n",
    "freq_by_ws.plot(kind='bar', color=edf_green, width=0.9, ax=ax)\n",
    "ax.plot(x, sp.stats.exponweib(1, k, scale=A, loc=0).pdf(x), color=edf_blue)\n",
    "ax.set_xlim([0,25])\n",
    "ax.set_title('Long-term hub-height wind speed frequency distribution')\n",
    "ax.set_xlabel('Wind speed [m/s]')\n",
    "ax.set_ylabel('Frequency')\n",
    "plt.xticks(rotation=0)\n",
    "plt.tight_layout()\n",
    "plt.show()"
   ]
  },
  {
   "cell_type": "markdown",
   "metadata": {
    "_uuid": "7f8c3e32b817df99b923cddf239de0128b54f478",
    "collapsed": true
   },
   "source": [
    "Alright, finally, we have our desired output. Namely, a long-term hub_height wind speed frequency distribution scaled to our hub-height mean wind speed. Great. We can now output this as a .tab file and use it to initialize our wind flow model. "
   ]
  },
  {
   "cell_type": "code",
   "execution_count": null,
   "metadata": {
    "_uuid": "8dad78800e28308723077d79214c9705beaff7c9"
   },
   "outputs": [],
   "source": [
    "hub_height_wind_speed_and_dir_data = pd.concat([lt_hh_mws_time_series, ano_vane_data[mast.primary_vane]], axis=1)\n",
    "hub_height_wind_speed_and_dir_data.columns = ['ws','dir']\n",
    "tab_file_table = an.analysis.wind_rose.return_tab_file(hub_height_wind_speed_and_dir_data, ws_sensor='ws', dir_sensor='dir', dir_sectors=16, ws_bin_width=1.0, half_first_bin=False, freq_as_label=False)\n",
    "tab_file_table"
   ]
  },
  {
   "cell_type": "code",
   "execution_count": null,
   "metadata": {
    "_uuid": "2d0cc44fda5ac40f869053f3bbff432cfcaca09d"
   },
   "outputs": [],
   "source": []
  }
 ],
 "metadata": {
  "kernelspec": {
   "display_name": "Python 3",
   "language": "python",
   "name": "python3"
  },
  "language_info": {
   "codemirror_mode": {
    "name": "ipython",
    "version": 3
   },
   "file_extension": ".py",
   "mimetype": "text/x-python",
   "name": "python",
   "nbconvert_exporter": "python",
   "pygments_lexer": "ipython3",
   "version": "3.7.3"
  }
 },
 "nbformat": 4,
 "nbformat_minor": 1
}
